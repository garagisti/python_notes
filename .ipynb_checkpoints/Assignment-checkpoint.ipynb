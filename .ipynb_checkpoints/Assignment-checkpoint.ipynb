{
 "cells": [
  {
   "cell_type": "markdown",
   "metadata": {},
   "source": [
    "# Q1\n",
    "### Question 9\n",
    "### Level 2\n",
    "\n",
    "\n",
    "\n",
    "### Question:  \n",
    "Write a program that accepts sequence of lines as input and prints the lines after making all characters in the sentence capitalized.\n",
    "\n",
    "Suppose the following input is supplied to the program:\n",
    "Hello world\n",
    "Practice makes perfect\n",
    "\n",
    "Then, the output should be:\n",
    "HELLO WORLD\n",
    "PRACTICE MAKES PERFECT\n",
    "\n",
    "\n",
    "Hints:\n",
    "In case of input data being supplied to the question, it should be assumed to be a console input.\n",
    "\n"
   ]
  },
  {
   "cell_type": "code",
   "execution_count": 66,
   "metadata": {},
   "outputs": [
    {
     "name": "stdout",
     "output_type": "stream",
     "text": [
      "Enter a sentence: \n",
      "Hello world?Practice makes perfect\n",
      "HELLO WORLD?PRACTICE MAKES PERFECT\n"
     ]
    }
   ],
   "source": [
    "# Method 1\n",
    "sentence = input('Enter a sentence: \\n')\n",
    "\n",
    "if type(sentence) == str:\n",
    "    print(sentence.upper())\n",
    "    \n",
    "elif type(sentence) == list:\n",
    "    for i in lines:\n",
    "        print(i.upper())\n",
    "\n",
    "## Target Output\n",
    "# HELLO WORLD\n",
    "# PRACTICE MAKES PERFECT"
   ]
  },
  {
   "cell_type": "markdown",
   "metadata": {},
   "source": [
    "# Q2\n",
    "\n",
    "Write a program that accepts a sentence and calculate the number of letters and digits. Suppose the following input is supplied to the program:\n",
    "hello world! 123\n",
    "Then, the output should be:\n",
    "LETTERS 10 DIGITS 3"
   ]
  },
  {
   "cell_type": "code",
   "execution_count": 64,
   "metadata": {},
   "outputs": [
    {
     "name": "stdout",
     "output_type": "stream",
     "text": [
      "Enter a Line: \n",
      "hello world@ 123\n",
      "LETTERS: 10 \n",
      "DIGITS: 3\n"
     ]
    }
   ],
   "source": [
    "import re\n",
    "\n",
    "#line = 'hello world! 123'\n",
    "\n",
    "line = input('Enter a Line: \\n')\n",
    "\n",
    "letters = 0\n",
    "digits = 0\n",
    "\n",
    "l = re.compile('[a-zA-Z]')\n",
    "d = re.compile('[0-9]')\n",
    "\n",
    "for word in line.split():\n",
    "    for ltr in word:\n",
    "        #count letter if it's a letter via regex matching\n",
    "        if l.match(ltr):\n",
    "            letters+=1\n",
    "        \n",
    "        #elif count number if it's number via regex matching\n",
    "        elif d.match(ltr):\n",
    "            digits+=1\n",
    "            \n",
    "print('LETTERS: {} \\nDIGITS: {}'.format(letters,digits))\n",
    "\n",
    "## Target Output\n",
    "# LETTERS 10\n",
    "# DIGITS 3\n",
    "\n"
   ]
  },
  {
   "cell_type": "markdown",
   "metadata": {},
   "source": [
    "# Q3\n",
    "Build a function that takes six passwords and checks which one is correct and returns all that match and don't and why."
   ]
  },
  {
   "cell_type": "code",
   "execution_count": 5,
   "metadata": {},
   "outputs": [
    {
     "name": "stdout",
     "output_type": "stream",
     "text": [
      "Enter some passwords seperated by a comma ',': \n",
      "ABd1234@1,a F1#,2w3E*,2We3345, ABd1234@2, ABD1234@9\n",
      "Passed:  ABd1234@1\n",
      "Passed:  ABd1234@2\n",
      "Failed:  a F1#\n",
      "Failed:  2w3E*\n",
      "Failed:  2We3345\n",
      "Failed:  ABD1234@9\n"
     ]
    }
   ],
   "source": [
    "import re\n",
    "\n",
    "password_regex = re.compile('^(?=.*[a-z])(?=.*[A-Z])(?=.*[0-9])(?=.*[$#@]).{6,12}$')\n",
    "\n",
    "# ?=.*[a-z] Checks for an occurance of small letter between a-z\n",
    "\n",
    "line = input('Enter some passwords seperated by a comma \\',\\': \\n')\n",
    "\n",
    "pass_list = []\n",
    "fail_list = []\n",
    "\n",
    "#line = 'ABd1234@1,a F1#,2w3E*,2We3345, ABd1234@2, ABD1234@9'\n",
    "line_list = line.split(',')\n",
    "\n",
    "\n",
    "for i in line_list:\n",
    "    if password_regex.match(i.strip()):\n",
    "        #print(i.strip())\n",
    "        pass_list.append(i.strip())\n",
    "    else:\n",
    "        fail_list.append(i.strip())\n",
    "        \n",
    "for p in pass_list:\n",
    "    print(\"Passed: \", p)\n",
    "    \n",
    "for f in fail_list:\n",
    "    print(\"Failed: \", f)\n",
    "\n",
    "## Target Output\n",
    "# ABd1234@1"
   ]
  },
  {
   "cell_type": "code",
   "execution_count": null,
   "metadata": {},
   "outputs": [],
   "source": []
  }
 ],
 "metadata": {
  "kernelspec": {
   "display_name": "Python 3",
   "language": "python",
   "name": "python3"
  },
  "language_info": {
   "codemirror_mode": {
    "name": "ipython",
    "version": 3
   },
   "file_extension": ".py",
   "mimetype": "text/x-python",
   "name": "python",
   "nbconvert_exporter": "python",
   "pygments_lexer": "ipython3",
   "version": "3.7.0"
  }
 },
 "nbformat": 4,
 "nbformat_minor": 2
}
