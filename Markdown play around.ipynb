{
 "cells": [
  {
   "cell_type": "code",
   "execution_count": null,
   "metadata": {},
   "outputs": [],
   "source": [
    "# Markdown test\n",
    "\n",
    "Ordered List\n",
    "1. Item 1\n",
    "2. Item 2\n",
    "3. Item 3\n",
    "4. Item 4\n",
    "\n"
   ]
  },
  {
   "cell_type": "code",
   "execution_count": 10,
   "metadata": {},
   "outputs": [
    {
     "name": "stdout",
     "output_type": "stream",
     "text": [
      "Like, baby, baby, baby, oh\n",
      "Like, baby, baby, baby, oh\n",
      "Like, baby, baby, baby, oh\n",
      "I thought you'd always be mine\n"
     ]
    }
   ],
   "source": [
    "def bieber(repeats):\n",
    "\n",
    "    for repeat in range(repeats):\n",
    "        print('Like, baby, baby, baby, oh')\n",
    "        \n",
    "    print('I thought you\\'d always be mine')\n",
    "        \n",
    "bieber(3)\n",
    "\n",
    "\n",
    "\n"
   ]
  },
  {
   "cell_type": "markdown",
   "metadata": {},
   "source": [
    "# Namespace and Scoping\n"
   ]
  },
  {
   "cell_type": "code",
   "execution_count": null,
   "metadata": {},
   "outputs": [],
   "source": [
    "myvar = 1\n",
    "x = 1\n",
    "y = 2\n",
    "\n",
    "def myfunc(new):\n",
    "return new"
   ]
  },
  {
   "cell_type": "code",
   "execution_count": 19,
   "metadata": {},
   "outputs": [
    {
     "name": "stdout",
     "output_type": "stream",
     "text": [
      "Planet\n",
      "Dwarf Planet\n",
      "Dwarf Planet\n"
     ]
    }
   ],
   "source": [
    "status = 'Planet'\n",
    "\n",
    "def pluto_status():\n",
    "    print(status)\n",
    "    return status\n",
    "\n",
    "def change_status():\n",
    "    global status \n",
    "    status = 'Dwarf Planet'\n",
    "    return status\n",
    "\n",
    "pluto_status()\n",
    "\n",
    "change_status()\n",
    "pluto_status()\n",
    "print(status)"
   ]
  },
  {
   "cell_type": "code",
   "execution_count": null,
   "metadata": {},
   "outputs": [],
   "source": []
  }
 ],
 "metadata": {
  "kernelspec": {
   "display_name": "Python 3",
   "language": "python",
   "name": "python3"
  },
  "language_info": {
   "codemirror_mode": {
    "name": "ipython",
    "version": 3
   },
   "file_extension": ".py",
   "mimetype": "text/x-python",
   "name": "python",
   "nbconvert_exporter": "python",
   "pygments_lexer": "ipython3",
   "version": "3.7.0"
  }
 },
 "nbformat": 4,
 "nbformat_minor": 2
}
